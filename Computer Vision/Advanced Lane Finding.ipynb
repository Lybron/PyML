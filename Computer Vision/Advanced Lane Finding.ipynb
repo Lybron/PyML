{
 "cells": [
  {
   "cell_type": "markdown",
   "metadata": {},
   "source": [
    "# Advanced Lane Finding"
   ]
  },
  {
   "cell_type": "code",
   "execution_count": null,
   "metadata": {
    "collapsed": true
   },
   "outputs": [],
   "source": [
    "import tensorflow as tf"
   ]
  },
  {
   "cell_type": "code",
   "execution_count": null,
   "metadata": {
    "collapsed": true
   },
   "outputs": [],
   "source": [
    "import numpy as np\n",
    "import cv2\n",
    "import matplotlib.pyplot as plt\n",
    "import matplotlib.image as mpimg\n",
    "import glob\n",
    "%matplotlib inline"
   ]
  },
  {
   "cell_type": "code",
   "execution_count": null,
   "metadata": {
    "collapsed": true
   },
   "outputs": [],
   "source": [
    "# Read in calibration images\n",
    "images = glob.glob('../calibation_images/calibration*.jpg')\n",
    "\n",
    "# Arrays to store object points and image points from all the images\n",
    "\n",
    "objpoints = [] # 3D points in a real world image space\n",
    "impoints = [] # 3D points in an image plane\n",
    "\n",
    "# Prepare object points (x, y, z)\n",
    "# Our checkerboard has 6 x 8 points\n",
    "objp = np.zeros((6*8, 3), np.float32)\n",
    "\n",
    "# np.mgrid returns the coordinate value for a given grid size\n",
    "obj[:,:,2] = np.mgrid[0,:,0,6].T.reshape(-1,2) # x,y cordinates\n",
    "\n",
    "# Iterate through images\n",
    "for img in images:\n",
    "    # Convert image to grayscale\n",
    "    gray = cv2.cvtColor(img, cv2.COLOR_BGR2GRAY)\n",
    "\n",
    "    # Find the chessboard corners\n",
    "    ret, corners = cv2.findChessboardCorners(gray, (8,6), None)\n",
    "\n",
    "    # If corners are found, add object points, image points\n",
    "    if ret == True:\n",
    "        imgpoints.append(corners)\n",
    "        objpoints.append(objp)\n",
    "\n",
    "        # Draw and display the corners\n",
    "        img = cv2.drawChessboardCorners(img, (8,6), corners, ret)\n",
    "        plt.imshow(img)\n",
    "    \n"
   ]
  },
  {
   "cell_type": "markdown",
   "metadata": {},
   "source": [
    "# Undistort An Image"
   ]
  },
  {
   "cell_type": "code",
   "execution_count": null,
   "metadata": {
    "collapsed": true
   },
   "outputs": [],
   "source": [
    "for image in images:\n",
    "    ret, mtx, dist, rvecs, tvecs = cv2.calibrateCamera(objpoints, imgpoints, gray.shape[:,:,-1], None, None)\n",
    "    dst = cv2.undistort(image, mtx, dist, None, mtx)"
   ]
  },
  {
   "cell_type": "markdown",
   "metadata": {},
   "source": [
    "# Transform An Image Perspective"
   ]
  },
  {
   "cell_type": "code",
   "execution_count": null,
   "metadata": {
    "collapsed": true
   },
   "outputs": [],
   "source": [
    "# Compute transform given source and destination points:\n",
    "M = cv2.getPerspectiveTransform(src,dst)\n",
    "\n",
    "# Compute the inverse perspective transform:\n",
    "M_inv = cv2. getPerspectiveTransform(dst, src)\n",
    "\n",
    "# Warp image using perspective transform:\n",
    "warped = cv2.warpPerspective(img, M, img_size, flags=cv2.INTER_LINEAR)"
   ]
  },
  {
   "cell_type": "markdown",
   "metadata": {},
   "source": [
    "# Sobel Operator"
   ]
  },
  {
   "cell_type": "code",
   "execution_count": null,
   "metadata": {},
   "outputs": [],
   "source": [
    "# First convert to grayscale because Sobel only accepts one color channel\n",
    "gray = cv2.cvtColor(im, cv2.COLOR_RGB2GRAY)\n",
    "\n",
    "# Calculate the derivative in the x direction\n",
    "sobelx = cv2.Sobel(gray, cv2.CV_64F, 1, 0)\n",
    "\n",
    "# Calculate the derivative in the y direction\n",
    "sobely = cv2.Sobel(gray, cv2.CV_64F, 0, 1)\n",
    "\n",
    "# Convert absolute value of x derivative\n",
    "abs_sobelx = np.absolute(sobelx)\n",
    "scaled_sobel = np.uint8(255*abs_sobelx/np.max(abs_sobelx))\n",
    "\n",
    "# Create a binary threshold to select pixels based on gradient strength\n",
    "thesh_min = 20\n",
    "thresh_max = 100\n",
    "sxbinary = np.zeros_like(scaled_sobel)\n",
    "sxbinary[(scaled_sobel >= thresh_min) & (scaled_sobel <= thresh_max)] = 1\n",
    "plt.imshow(sxbinary, cmap='gray')"
   ]
  },
  {
   "cell_type": "markdown",
   "metadata": {},
   "source": [
    "# Sobel Magnitude"
   ]
  },
  {
   "cell_type": "code",
   "execution_count": null,
   "metadata": {
    "collapsed": true
   },
   "outputs": [],
   "source": [
    "abs_sobelx = sqrt(sobelx^2)\n",
    "abs_sobely = sqrt(sobely^2)\n",
    "abs_sobelxy = sqrt(sobelx^2 + sobely^2)"
   ]
  },
  {
   "cell_type": "markdown",
   "metadata": {},
   "source": [
    "# Direction of Gradient"
   ]
  },
  {
   "cell_type": "code",
   "execution_count": null,
   "metadata": {
    "collapsed": true
   },
   "outputs": [],
   "source": [
    "# Direction of the gradient is the inverse tangent of y gradient divided by x gradient\n",
    "# arctan(sobelx/sobely)\n",
    "direction = np.arctan2(sobely/sobelx)"
   ]
  },
  {
   "cell_type": "markdown",
   "metadata": {},
   "source": [
    "# HLS and Color Thresholds"
   ]
  },
  {
   "cell_type": "code",
   "execution_count": null,
   "metadata": {
    "collapsed": true
   },
   "outputs": [],
   "source": [
    "image = mpimg.imread('test6.jpg')\n",
    "\n",
    "# Get channels in RGB space\n",
    "# R = image[:,:,0]\n",
    "# G = image[:,:,1]\n",
    "# B = image[:,:,2]\n",
    "\n",
    "# Get channels in HLS\n",
    "# hls = cv2.cvtColor(image, cv2.COLOR_RGB2HLS)\n",
    "# H = hls[:,:,0]\n",
    "# L = hls[:,:,1]\n",
    "# S = hls[:,:,2]\n",
    "\n",
    "thresh = (180, 255)\n",
    "gray = cvt.Color(image, cv2.COLOR_RGB2GRAY)\n",
    "binary = np.zeros_like(gray)\n",
    "binary[(gray > thresh[0]) & (gray <= thresh[1])] = 1"
   ]
  },
  {
   "cell_type": "markdown",
   "metadata": {},
   "source": [
    "# Color and Gradient"
   ]
  },
  {
   "cell_type": "code",
   "execution_count": null,
   "metadata": {
    "collapsed": true
   },
   "outputs": [],
   "source": [
    "# Convert to HLS color space and separate the S channel\n",
    "# using an undistorted image\n",
    "hls = cv2.cvtColor(img, cv2.COLOR_RGB2HLS)\n",
    "s_channel = hl[:,:,2]\n",
    "\n",
    "# Grayscale image\n",
    "# Grayscaling lost color information for the lane lines previously\n",
    "# Explore gradients in other color spaces/channels\n",
    "gray = cv2.cvtColor(img, cv2.COLOR_RGB2GRAY)\n",
    "\n",
    "# Sobel X\n",
    "sobelx = cv2.Sobel(gray, cv2.CV_64F, 1, 0)\n",
    "abs_sobelx = np.absolute(sobelx)\n",
    "scaled_sobelx = np.uint8(255*abs_sobelx/np.max(abs_sobelx))\n",
    "\n",
    "# Threshold x gradient\n",
    "thresh_min = 20\n",
    "thresh_max = 100\n",
    "sxbinary = np.zeros_like(s_channel)\n",
    "sxbinary[(scaled_sobel >= thresh_min) & (scaled_sobel <= thresh_max)] = 1\n",
    "\n",
    "# Threshold color channel\n",
    "s_thresh_min = 170\n",
    "s_thresh_max = 255\n",
    "s_binary = np.zeros_lik(s_channel)\n",
    "s_binary[(s_channel >= s_thresh_min) & (s_channel <= s_thresh_max)] = 1\n",
    "\n",
    "# Stack each channel to view individual contributions in green and blue respectively\n",
    "# This returns a stack of two binary images, whose components you can see as different colors\n",
    "color_binary = np.dstack((np.zeros_like(sxbinary), sxbinary, s_binary))\n",
    "\n",
    "# Combine the two binary thresholds\n",
    "combined_binary = np.zeros_like(sxbinary)\n",
    "combined_binary[(s_binary == 1) | (sxbinary == 1)] = 1\n",
    "\n",
    "# Plotting threshold images\n",
    "f, (ax1, ax2) = plt.subplots(1, 2, figsize(20, 100))\n",
    "ax1.set_title('Stakced thresholds')\n",
    "ax1.imshow(color_binary)\n",
    "\n",
    "ax.set_title('Combined S channel and gradient thresholds')\n",
    "ax2.imshow(combined_binary, cmap='gray')\n",
    "\n"
   ]
  },
  {
   "cell_type": "markdown",
   "metadata": {},
   "source": [
    "# Locate Lane Lines and Fit A Polynomial"
   ]
  },
  {
   "cell_type": "code",
   "execution_count": null,
   "metadata": {
    "collapsed": true
   },
   "outputs": [],
   "source": [
    "#  Take histogram along all columns in the lower half of the image\n",
    "histogram = np.sum(img[img.shape[0]/2:,:], axis=0)\n",
    "plt.plt(histogram)\n",
    "\n",
    "# Implement sliding windows and fit a polynomial\n",
    "\n",
    "histogram = np.sum(binary_warped[binary_warped.shape[0]/2:,:], axis=0)\n",
    "\n",
    "# Create an output image to draw on and visualize the result\n",
    "out_img = np.dstack((binary_warped, binary_warped, binary_warped))*255\n",
    "\n",
    "# Find the peak of the left and right halves of the historgram\n",
    "# These will be the starting point for the left and right lines\n",
    "midpoint = np.int(histogram.shape[0]/2)\n",
    "leftx_base = np.argmax(histogram[:midpoint])\n",
    "rightx_base = np.argmax(histogram[midpoint:]) + midpoint\n",
    "\n",
    "# Choose the number of sliding windows\n",
    "n_windows = 9\n",
    "\n",
    "# Set height of windows\n",
    "window_height = np.int(binary_warped.shape[0]/n_windows)\n",
    "\n",
    "# Identify the x and y positions of all nonzero pixels in the image\n",
    "nonzero = binary_warped.nonzero()\n",
    "nonzero_y = np.array(nonzero[0])\n",
    "nonzero_x = np.array(nonzero[1])\n",
    "\n",
    "\n"
   ]
  }
 ],
 "metadata": {
  "kernelspec": {
   "display_name": "Python 3",
   "language": "python",
   "name": "python3"
  },
  "language_info": {
   "codemirror_mode": {
    "name": "ipython",
    "version": 3
   },
   "file_extension": ".py",
   "mimetype": "text/x-python",
   "name": "python",
   "nbconvert_exporter": "python",
   "pygments_lexer": "ipython3",
   "version": "3.6.1"
  }
 },
 "nbformat": 4,
 "nbformat_minor": 2
}

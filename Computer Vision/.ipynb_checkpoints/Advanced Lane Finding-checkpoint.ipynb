{
 "cells": [
  {
   "cell_type": "markdown",
   "metadata": {},
   "source": [
    "# Calibrating A Camera"
   ]
  },
  {
   "cell_type": "code",
   "execution_count": null,
   "metadata": {
    "collapsed": true
   },
   "outputs": [],
   "source": [
    "import numpy as np\n",
    "import cv2\n",
    "import matplotlib.pyplot as plt\n",
    "import matplotlib.image as mpimg\n",
    "import glob\n",
    "%matplotlib inline\n",
    "\n",
    "# Read in a calibration image\n",
    "images = glob.glob('../calibation_images/calibration*.jpg')\n",
    "\n",
    "img = mpimg.imread('../calibration_images/calibration1.jpg')\n",
    "plt.imshow(img)"
   ]
  },
  {
   "cell_type": "code",
   "execution_count": null,
   "metadata": {
    "collapsed": true
   },
   "outputs": [],
   "source": [
    "# Arrays to store object points and image points from all the images\n",
    "\n",
    "objpoints = [] # 3D points in a real world image space\n",
    "impoints = [] # 3D points in an image plane\n",
    "\n",
    "# Prepare object points (x, y, z)\n",
    "# Our checkerboard has 6 x 8 points\n",
    "objp = np.zeros((6*8, 3), np.float32)\n",
    "\n",
    "# np.mgrid returns the coordinate value for a given grid size\n",
    "obj[:,:,2] = np.mgrid[0,:,0,6].T.reshape(-1,2) # x,y cordinates\n",
    "\n",
    "# TODO: Iterate through images\n",
    "# Convert image to grayscale\n",
    "gray = cv2.cvtColor(img, cv2.COLOR_BGR2GRAY)\n",
    "\n",
    "# Find the chessboard corners\n",
    "ret, corners = cv2.findChessboardCorners(gray, (8,6), None)\n",
    "\n",
    "# If corners are found, add object points, image points\n",
    "if ret == True:\n",
    "    imgpoints.append(corners)\n",
    "    objpoints.append(objp)\n",
    "    \n",
    "    # Draw and display the corners\n",
    "    img = cv2.drawChessboardCorners(img, (8,6), corners, ret)\n",
    "    plt.imshow(img)\n"
   ]
  }
 ],
 "metadata": {
  "kernelspec": {
   "display_name": "Python 3",
   "language": "python",
   "name": "python3"
  },
  "language_info": {
   "codemirror_mode": {
    "name": "ipython",
    "version": 3
   },
   "file_extension": ".py",
   "mimetype": "text/x-python",
   "name": "python",
   "nbconvert_exporter": "python",
   "pygments_lexer": "ipython3",
   "version": "3.6.1"
  }
 },
 "nbformat": 4,
 "nbformat_minor": 2
}
